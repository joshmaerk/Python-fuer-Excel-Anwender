{
 "cells": [
  {
   "cell_type": "markdown",
   "metadata": {},
   "source": [
    "# Python für Excel Anwender"
   ]
  },
  {
   "cell_type": "markdown",
   "metadata": {},
   "source": [
    "Python ist derzeit eine der angesagtesten Programmiersprachen und hat insbesondere durch Data Analytics und Data Science Bemühungen enorm an Relevenz hinzu gewonnen. \n",
    "Um auch weiteren IT affinen aber Entwickler Fremden einen Einblick in diese fastzinierende Programmiersprache zu geben habe ich mich für folgendes Tutorial entschieden:\n",
    "\n",
    "\n",
    "**Ausgangslage:**  \n",
    "Drei csv Dateien werden im Rahmen eines regelmäßigen Reportings von einem Mitarbeiter zusammengefügt, bearbeitet und anschließend in 10 Dateien gesplittet und z.B. an Vertriebsgesellschaften verteilt.\n",
    "Als Dateien dienen uns folgende Muster Dateien:   \n",
    "- files/kühlschrank.csv  \n",
    "- files/herd.csv  \n",
    "- files/spühlmaschine.csv  "
   ]
  },
  {
   "cell_type": "markdown",
   "metadata": {},
   "source": [
    "## Bibliotheken"
   ]
  },
  {
   "cell_type": "code",
   "execution_count": 250,
   "metadata": {},
   "outputs": [],
   "source": [
    "import os  # Zugriff auf das Filesystem unserer Betriebssystems\n",
    "import pandas as pd  # Bibliothek für die Datenbearbeitung"
   ]
  },
  {
   "cell_type": "markdown",
   "metadata": {},
   "source": [
    "## Dateien in Notebook laden"
   ]
  },
  {
   "cell_type": "markdown",
   "metadata": {},
   "source": [
    "Als erstes nutzen wir das _os_ Modul um auf den Pfad der benötigten Dateien zuzugreifen."
   ]
  },
  {
   "cell_type": "code",
   "execution_count": 251,
   "metadata": {},
   "outputs": [
    {
     "data": {
      "text/plain": [
       "['.ipynb_checkpoints', 'files', 'Python für Excel User.ipynb', 'reports']"
      ]
     },
     "execution_count": 251,
     "metadata": {},
     "output_type": "execute_result"
    }
   ],
   "source": [
    "os.listdir()  # Zeigt die Dateien in unserem derzeitigen Verzeichnis an."
   ]
  },
  {
   "cell_type": "markdown",
   "metadata": {},
   "source": [
    "Hier entdekcen wir den Ordner _files_. Dieser enthält die Dateien die wir einlesen wollen."
   ]
  },
  {
   "cell_type": "code",
   "execution_count": 252,
   "metadata": {},
   "outputs": [
    {
     "data": {
      "text/html": [
       "<div>\n",
       "<style scoped>\n",
       "    .dataframe tbody tr th:only-of-type {\n",
       "        vertical-align: middle;\n",
       "    }\n",
       "\n",
       "    .dataframe tbody tr th {\n",
       "        vertical-align: top;\n",
       "    }\n",
       "\n",
       "    .dataframe thead th {\n",
       "        text-align: right;\n",
       "    }\n",
       "</style>\n",
       "<table border=\"1\" class=\"dataframe\">\n",
       "  <thead>\n",
       "    <tr style=\"text-align: right;\">\n",
       "      <th></th>\n",
       "      <th>Gesellschaft;Filiale;Mitarbeiter;Monat;Abschlüsse</th>\n",
       "    </tr>\n",
       "  </thead>\n",
       "  <tbody>\n",
       "    <tr>\n",
       "      <td>0</td>\n",
       "      <td>Nord Amerika;Kanada;Mitarbeiter A;Jan 20;10</td>\n",
       "    </tr>\n",
       "    <tr>\n",
       "      <td>1</td>\n",
       "      <td>Europa;Spanien;Mitarbeiter P;Jan 20;1</td>\n",
       "    </tr>\n",
       "    <tr>\n",
       "      <td>2</td>\n",
       "      <td>Afrika;Südafrika;Mitarbeiter Ü;Jan 20;1</td>\n",
       "    </tr>\n",
       "    <tr>\n",
       "      <td>3</td>\n",
       "      <td>Europa;Polen;Mitarbeiter O;Jan 20;3</td>\n",
       "    </tr>\n",
       "    <tr>\n",
       "      <td>4</td>\n",
       "      <td>Nord Amerika;Kanada;Mitarbeiter A;Feb 20;8</td>\n",
       "    </tr>\n",
       "  </tbody>\n",
       "</table>\n",
       "</div>"
      ],
      "text/plain": [
       "  Gesellschaft;Filiale;Mitarbeiter;Monat;Abschlüsse\n",
       "0       Nord Amerika;Kanada;Mitarbeiter A;Jan 20;10\n",
       "1             Europa;Spanien;Mitarbeiter P;Jan 20;1\n",
       "2           Afrika;Südafrika;Mitarbeiter Ü;Jan 20;1\n",
       "3               Europa;Polen;Mitarbeiter O;Jan 20;3\n",
       "4        Nord Amerika;Kanada;Mitarbeiter A;Feb 20;8"
      ]
     },
     "execution_count": 252,
     "metadata": {},
     "output_type": "execute_result"
    }
   ],
   "source": [
    "df = pd.read_csv(\"files/kühlschrank.csv\")\n",
    "df.head()"
   ]
  },
  {
   "cell_type": "markdown",
   "metadata": {},
   "source": [
    "mit ```pd.read_csv``` können wir csv Dateien einlesen. Das was wir dazu übergeben müssen ist ein Pfad zur entsprechenden Datein. Die Daten speichern wir dann in der Variablen ```df``` anschließend lassen wir uns mit ```df.head()``` die ersten fünf Zeilen anzeigen. "
   ]
  },
  {
   "cell_type": "markdown",
   "metadata": {},
   "source": [
    "Hier fällt uns auf, das die Anwendung die Trennzeichen nicht richtig erkannt hat und die Daten nicht korrekt in Tabellenform anzeigen. Dazu übergeben wir nun einen Parmeter zur separierung. In diesem Fall übernimmt pandas per Default ein `,` als Trennzeichen. Wir benötigen jedoch ein `;`."
   ]
  },
  {
   "cell_type": "code",
   "execution_count": 253,
   "metadata": {},
   "outputs": [
    {
     "data": {
      "text/html": [
       "<div>\n",
       "<style scoped>\n",
       "    .dataframe tbody tr th:only-of-type {\n",
       "        vertical-align: middle;\n",
       "    }\n",
       "\n",
       "    .dataframe tbody tr th {\n",
       "        vertical-align: top;\n",
       "    }\n",
       "\n",
       "    .dataframe thead th {\n",
       "        text-align: right;\n",
       "    }\n",
       "</style>\n",
       "<table border=\"1\" class=\"dataframe\">\n",
       "  <thead>\n",
       "    <tr style=\"text-align: right;\">\n",
       "      <th></th>\n",
       "      <th>Gesellschaft</th>\n",
       "      <th>Filiale</th>\n",
       "      <th>Mitarbeiter</th>\n",
       "      <th>Monat</th>\n",
       "      <th>Abschlüsse</th>\n",
       "    </tr>\n",
       "  </thead>\n",
       "  <tbody>\n",
       "    <tr>\n",
       "      <td>0</td>\n",
       "      <td>Nord Amerika</td>\n",
       "      <td>Kanada</td>\n",
       "      <td>Mitarbeiter A</td>\n",
       "      <td>Jan 20</td>\n",
       "      <td>10</td>\n",
       "    </tr>\n",
       "    <tr>\n",
       "      <td>1</td>\n",
       "      <td>Europa</td>\n",
       "      <td>Spanien</td>\n",
       "      <td>Mitarbeiter P</td>\n",
       "      <td>Jan 20</td>\n",
       "      <td>1</td>\n",
       "    </tr>\n",
       "    <tr>\n",
       "      <td>2</td>\n",
       "      <td>Afrika</td>\n",
       "      <td>Südafrika</td>\n",
       "      <td>Mitarbeiter Ü</td>\n",
       "      <td>Jan 20</td>\n",
       "      <td>1</td>\n",
       "    </tr>\n",
       "    <tr>\n",
       "      <td>3</td>\n",
       "      <td>Europa</td>\n",
       "      <td>Polen</td>\n",
       "      <td>Mitarbeiter O</td>\n",
       "      <td>Jan 20</td>\n",
       "      <td>3</td>\n",
       "    </tr>\n",
       "    <tr>\n",
       "      <td>4</td>\n",
       "      <td>Nord Amerika</td>\n",
       "      <td>Kanada</td>\n",
       "      <td>Mitarbeiter A</td>\n",
       "      <td>Feb 20</td>\n",
       "      <td>8</td>\n",
       "    </tr>\n",
       "  </tbody>\n",
       "</table>\n",
       "</div>"
      ],
      "text/plain": [
       "   Gesellschaft    Filiale    Mitarbeiter   Monat  Abschlüsse\n",
       "0  Nord Amerika     Kanada  Mitarbeiter A  Jan 20          10\n",
       "1        Europa    Spanien  Mitarbeiter P  Jan 20           1\n",
       "2        Afrika  Südafrika  Mitarbeiter Ü  Jan 20           1\n",
       "3        Europa      Polen  Mitarbeiter O  Jan 20           3\n",
       "4  Nord Amerika     Kanada  Mitarbeiter A  Feb 20           8"
      ]
     },
     "execution_count": 253,
     "metadata": {},
     "output_type": "execute_result"
    }
   ],
   "source": [
    "df = pd.read_csv(\"files/kühlschrank.csv\", sep=\";\")\n",
    "df.head()"
   ]
  },
  {
   "cell_type": "markdown",
   "metadata": {},
   "source": [
    "Nun sehen die Daten schon besser aus."
   ]
  },
  {
   "cell_type": "markdown",
   "metadata": {},
   "source": [
    "Laden wir nun alle drei drei Dateien ein:"
   ]
  },
  {
   "cell_type": "code",
   "execution_count": 254,
   "metadata": {},
   "outputs": [],
   "source": [
    "df_fridge = pd.read_csv(\"files/kühlschrank.csv\", sep=\";\")\n",
    "df_cleaner = pd.read_csv(\"files/spühlmaschine.csv\", sep=\";\") \n",
    "df_stove = pd.read_csv(\"files/herd.csv\", sep=\";\")"
   ]
  },
  {
   "cell_type": "markdown",
   "metadata": {},
   "source": [
    "und schauen uns in der Vorschau an, ob die Dateien korrekt eingelesen wurden."
   ]
  },
  {
   "cell_type": "code",
   "execution_count": 255,
   "metadata": {},
   "outputs": [
    {
     "data": {
      "text/html": [
       "<div>\n",
       "<style scoped>\n",
       "    .dataframe tbody tr th:only-of-type {\n",
       "        vertical-align: middle;\n",
       "    }\n",
       "\n",
       "    .dataframe tbody tr th {\n",
       "        vertical-align: top;\n",
       "    }\n",
       "\n",
       "    .dataframe thead th {\n",
       "        text-align: right;\n",
       "    }\n",
       "</style>\n",
       "<table border=\"1\" class=\"dataframe\">\n",
       "  <thead>\n",
       "    <tr style=\"text-align: right;\">\n",
       "      <th></th>\n",
       "      <th>Gesellschaft</th>\n",
       "      <th>Filiale</th>\n",
       "      <th>Mitarbeiter</th>\n",
       "      <th>Monat</th>\n",
       "      <th>Abschlüsse</th>\n",
       "    </tr>\n",
       "  </thead>\n",
       "  <tbody>\n",
       "    <tr>\n",
       "      <td>0</td>\n",
       "      <td>Nord Amerika</td>\n",
       "      <td>Kanada</td>\n",
       "      <td>Mitarbeiter A</td>\n",
       "      <td>Jan 20</td>\n",
       "      <td>10</td>\n",
       "    </tr>\n",
       "    <tr>\n",
       "      <td>1</td>\n",
       "      <td>Europa</td>\n",
       "      <td>Spanien</td>\n",
       "      <td>Mitarbeiter P</td>\n",
       "      <td>Jan 20</td>\n",
       "      <td>1</td>\n",
       "    </tr>\n",
       "    <tr>\n",
       "      <td>2</td>\n",
       "      <td>Afrika</td>\n",
       "      <td>Südafrika</td>\n",
       "      <td>Mitarbeiter Ü</td>\n",
       "      <td>Jan 20</td>\n",
       "      <td>1</td>\n",
       "    </tr>\n",
       "    <tr>\n",
       "      <td>3</td>\n",
       "      <td>Europa</td>\n",
       "      <td>Polen</td>\n",
       "      <td>Mitarbeiter O</td>\n",
       "      <td>Jan 20</td>\n",
       "      <td>3</td>\n",
       "    </tr>\n",
       "    <tr>\n",
       "      <td>4</td>\n",
       "      <td>Nord Amerika</td>\n",
       "      <td>Kanada</td>\n",
       "      <td>Mitarbeiter A</td>\n",
       "      <td>Feb 20</td>\n",
       "      <td>8</td>\n",
       "    </tr>\n",
       "  </tbody>\n",
       "</table>\n",
       "</div>"
      ],
      "text/plain": [
       "   Gesellschaft    Filiale    Mitarbeiter   Monat  Abschlüsse\n",
       "0  Nord Amerika     Kanada  Mitarbeiter A  Jan 20          10\n",
       "1        Europa    Spanien  Mitarbeiter P  Jan 20           1\n",
       "2        Afrika  Südafrika  Mitarbeiter Ü  Jan 20           1\n",
       "3        Europa      Polen  Mitarbeiter O  Jan 20           3\n",
       "4  Nord Amerika     Kanada  Mitarbeiter A  Feb 20           8"
      ]
     },
     "execution_count": 255,
     "metadata": {},
     "output_type": "execute_result"
    }
   ],
   "source": [
    "df_fridge.head()"
   ]
  },
  {
   "cell_type": "code",
   "execution_count": 256,
   "metadata": {},
   "outputs": [
    {
     "data": {
      "text/html": [
       "<div>\n",
       "<style scoped>\n",
       "    .dataframe tbody tr th:only-of-type {\n",
       "        vertical-align: middle;\n",
       "    }\n",
       "\n",
       "    .dataframe tbody tr th {\n",
       "        vertical-align: top;\n",
       "    }\n",
       "\n",
       "    .dataframe thead th {\n",
       "        text-align: right;\n",
       "    }\n",
       "</style>\n",
       "<table border=\"1\" class=\"dataframe\">\n",
       "  <thead>\n",
       "    <tr style=\"text-align: right;\">\n",
       "      <th></th>\n",
       "      <th>Gesellschaft</th>\n",
       "      <th>Filiale</th>\n",
       "      <th>Mitarbeiter</th>\n",
       "      <th>Monat</th>\n",
       "      <th>Abschlüsse</th>\n",
       "    </tr>\n",
       "  </thead>\n",
       "  <tbody>\n",
       "    <tr>\n",
       "      <td>0</td>\n",
       "      <td>Nord Amerika</td>\n",
       "      <td>Kanada</td>\n",
       "      <td>Mitarbeiter A</td>\n",
       "      <td>Jan 20</td>\n",
       "      <td>3</td>\n",
       "    </tr>\n",
       "    <tr>\n",
       "      <td>1</td>\n",
       "      <td>Afrika</td>\n",
       "      <td>Südafrika</td>\n",
       "      <td>Mitarbeiter Ü</td>\n",
       "      <td>Jan 20</td>\n",
       "      <td>9</td>\n",
       "    </tr>\n",
       "    <tr>\n",
       "      <td>2</td>\n",
       "      <td>Europa</td>\n",
       "      <td>Polen</td>\n",
       "      <td>Mitarbeiter O</td>\n",
       "      <td>Jan 20</td>\n",
       "      <td>2</td>\n",
       "    </tr>\n",
       "    <tr>\n",
       "      <td>3</td>\n",
       "      <td>Nord Amerika</td>\n",
       "      <td>Kanada</td>\n",
       "      <td>Mitarbeiter A</td>\n",
       "      <td>Feb 20</td>\n",
       "      <td>6</td>\n",
       "    </tr>\n",
       "    <tr>\n",
       "      <td>4</td>\n",
       "      <td>Afrika</td>\n",
       "      <td>Südafrika</td>\n",
       "      <td>Mitarbeiter Ü</td>\n",
       "      <td>Feb 20</td>\n",
       "      <td>8</td>\n",
       "    </tr>\n",
       "  </tbody>\n",
       "</table>\n",
       "</div>"
      ],
      "text/plain": [
       "   Gesellschaft    Filiale    Mitarbeiter   Monat  Abschlüsse\n",
       "0  Nord Amerika     Kanada  Mitarbeiter A  Jan 20           3\n",
       "1        Afrika  Südafrika  Mitarbeiter Ü  Jan 20           9\n",
       "2        Europa      Polen  Mitarbeiter O  Jan 20           2\n",
       "3  Nord Amerika     Kanada  Mitarbeiter A  Feb 20           6\n",
       "4        Afrika  Südafrika  Mitarbeiter Ü  Feb 20           8"
      ]
     },
     "execution_count": 256,
     "metadata": {},
     "output_type": "execute_result"
    }
   ],
   "source": [
    "df_cleaner.head()"
   ]
  },
  {
   "cell_type": "code",
   "execution_count": 257,
   "metadata": {},
   "outputs": [
    {
     "data": {
      "text/html": [
       "<div>\n",
       "<style scoped>\n",
       "    .dataframe tbody tr th:only-of-type {\n",
       "        vertical-align: middle;\n",
       "    }\n",
       "\n",
       "    .dataframe tbody tr th {\n",
       "        vertical-align: top;\n",
       "    }\n",
       "\n",
       "    .dataframe thead th {\n",
       "        text-align: right;\n",
       "    }\n",
       "</style>\n",
       "<table border=\"1\" class=\"dataframe\">\n",
       "  <thead>\n",
       "    <tr style=\"text-align: right;\">\n",
       "      <th></th>\n",
       "      <th>Gesellschaft</th>\n",
       "      <th>Filiale</th>\n",
       "      <th>Mitarbeiter</th>\n",
       "      <th>Monat</th>\n",
       "      <th>Abschlüsse</th>\n",
       "    </tr>\n",
       "  </thead>\n",
       "  <tbody>\n",
       "    <tr>\n",
       "      <td>0</td>\n",
       "      <td>Nord Amerika</td>\n",
       "      <td>Kanada</td>\n",
       "      <td>Mitarbeiter A</td>\n",
       "      <td>Jan 20</td>\n",
       "      <td>5</td>\n",
       "    </tr>\n",
       "    <tr>\n",
       "      <td>1</td>\n",
       "      <td>Europa</td>\n",
       "      <td>Spanien</td>\n",
       "      <td>Mitarbeiter P</td>\n",
       "      <td>Jan 20</td>\n",
       "      <td>5</td>\n",
       "    </tr>\n",
       "    <tr>\n",
       "      <td>2</td>\n",
       "      <td>Asien</td>\n",
       "      <td>Indien</td>\n",
       "      <td>Mitarbeiter N</td>\n",
       "      <td>Jan 20</td>\n",
       "      <td>1</td>\n",
       "    </tr>\n",
       "    <tr>\n",
       "      <td>3</td>\n",
       "      <td>Afrika</td>\n",
       "      <td>Südafrika</td>\n",
       "      <td>Mitarbeiter Ü</td>\n",
       "      <td>Jan 20</td>\n",
       "      <td>10</td>\n",
       "    </tr>\n",
       "    <tr>\n",
       "      <td>4</td>\n",
       "      <td>Nord Amerika</td>\n",
       "      <td>Kanada</td>\n",
       "      <td>Mitarbeiter A</td>\n",
       "      <td>Feb 20</td>\n",
       "      <td>6</td>\n",
       "    </tr>\n",
       "  </tbody>\n",
       "</table>\n",
       "</div>"
      ],
      "text/plain": [
       "   Gesellschaft    Filiale    Mitarbeiter   Monat  Abschlüsse\n",
       "0  Nord Amerika     Kanada  Mitarbeiter A  Jan 20           5\n",
       "1        Europa    Spanien  Mitarbeiter P  Jan 20           5\n",
       "2         Asien     Indien  Mitarbeiter N  Jan 20           1\n",
       "3        Afrika  Südafrika  Mitarbeiter Ü  Jan 20          10\n",
       "4  Nord Amerika     Kanada  Mitarbeiter A  Feb 20           6"
      ]
     },
     "execution_count": 257,
     "metadata": {},
     "output_type": "execute_result"
    }
   ],
   "source": [
    "df_stove.head()"
   ]
  },
  {
   "cell_type": "markdown",
   "metadata": {},
   "source": [
    "Das sieht soweit alles korrekt aus. "
   ]
  },
  {
   "cell_type": "markdown",
   "metadata": {},
   "source": [
    "Nun wollen wir die drei Auswertungen miteinander kombinieren. Dazu Schauen wor uns als erstes die Struktur der Dateien an. Dort erkennen wir, dass die Daten zu `Gesellschaft`, `Filiale`, `Mitarbeiter` in allen Tabellen gleich ist. Die können wir daher als Index für unser Daten nutzen.\n",
    "Einen Index legen wir mit `pd.set_index`fest"
   ]
  },
  {
   "cell_type": "code",
   "execution_count": 258,
   "metadata": {},
   "outputs": [
    {
     "data": {
      "text/html": [
       "<div>\n",
       "<style scoped>\n",
       "    .dataframe tbody tr th:only-of-type {\n",
       "        vertical-align: middle;\n",
       "    }\n",
       "\n",
       "    .dataframe tbody tr th {\n",
       "        vertical-align: top;\n",
       "    }\n",
       "\n",
       "    .dataframe thead th {\n",
       "        text-align: right;\n",
       "    }\n",
       "</style>\n",
       "<table border=\"1\" class=\"dataframe\">\n",
       "  <thead>\n",
       "    <tr style=\"text-align: right;\">\n",
       "      <th></th>\n",
       "      <th></th>\n",
       "      <th></th>\n",
       "      <th>Monat</th>\n",
       "      <th>Abschlüsse</th>\n",
       "    </tr>\n",
       "    <tr>\n",
       "      <th>Gesellschaft</th>\n",
       "      <th>Filiale</th>\n",
       "      <th>Mitarbeiter</th>\n",
       "      <th></th>\n",
       "      <th></th>\n",
       "    </tr>\n",
       "  </thead>\n",
       "  <tbody>\n",
       "    <tr>\n",
       "      <td>Nord Amerika</td>\n",
       "      <td>Kanada</td>\n",
       "      <td>Mitarbeiter A</td>\n",
       "      <td>Jan 20</td>\n",
       "      <td>5</td>\n",
       "    </tr>\n",
       "    <tr>\n",
       "      <td>Europa</td>\n",
       "      <td>Spanien</td>\n",
       "      <td>Mitarbeiter P</td>\n",
       "      <td>Jan 20</td>\n",
       "      <td>5</td>\n",
       "    </tr>\n",
       "    <tr>\n",
       "      <td>Asien</td>\n",
       "      <td>Indien</td>\n",
       "      <td>Mitarbeiter N</td>\n",
       "      <td>Jan 20</td>\n",
       "      <td>1</td>\n",
       "    </tr>\n",
       "    <tr>\n",
       "      <td>Afrika</td>\n",
       "      <td>Südafrika</td>\n",
       "      <td>Mitarbeiter Ü</td>\n",
       "      <td>Jan 20</td>\n",
       "      <td>10</td>\n",
       "    </tr>\n",
       "    <tr>\n",
       "      <td>Nord Amerika</td>\n",
       "      <td>Kanada</td>\n",
       "      <td>Mitarbeiter A</td>\n",
       "      <td>Feb 20</td>\n",
       "      <td>6</td>\n",
       "    </tr>\n",
       "  </tbody>\n",
       "</table>\n",
       "</div>"
      ],
      "text/plain": [
       "                                       Monat  Abschlüsse\n",
       "Gesellschaft Filiale   Mitarbeiter                      \n",
       "Nord Amerika Kanada    Mitarbeiter A  Jan 20           5\n",
       "Europa       Spanien   Mitarbeiter P  Jan 20           5\n",
       "Asien        Indien    Mitarbeiter N  Jan 20           1\n",
       "Afrika       Südafrika Mitarbeiter Ü  Jan 20          10\n",
       "Nord Amerika Kanada    Mitarbeiter A  Feb 20           6"
      ]
     },
     "execution_count": 258,
     "metadata": {},
     "output_type": "execute_result"
    }
   ],
   "source": [
    "df_stove.set_index([\"Gesellschaft\", \"Filiale\", \"Mitarbeiter\"]).head()"
   ]
  },
  {
   "cell_type": "markdown",
   "metadata": {},
   "source": [
    "Wir sehen nun, dass das Dataframe drei Spalten als `Index` gepeichert hat. Diese Änderung speichern wir nun in den Variablen und übernehmen diese direkt für alle drei Tabellen."
   ]
  },
  {
   "cell_type": "code",
   "execution_count": 259,
   "metadata": {},
   "outputs": [],
   "source": [
    "df_stove = df_stove.set_index([\"Gesellschaft\", \"Filiale\", \"Mitarbeiter\"])\n",
    "df_cleaner = df_cleaner.set_index([\"Gesellschaft\", \"Filiale\", \"Mitarbeiter\"])\n",
    "df_fridge = df_fridge.set_index([\"Gesellschaft\", \"Filiale\", \"Mitarbeiter\"])"
   ]
  },
  {
   "cell_type": "markdown",
   "metadata": {},
   "source": [
    "Nun können wir alle drei Tabellen miteinander verbinden. Damit die Werte jedoch korrekt zugeordnet werden haben wir im Schritt zuvor für alle Tabellen einen einheitlichen Index erstellt. "
   ]
  },
  {
   "cell_type": "code",
   "execution_count": 260,
   "metadata": {},
   "outputs": [
    {
     "data": {
      "text/html": [
       "<div>\n",
       "<style scoped>\n",
       "    .dataframe tbody tr th:only-of-type {\n",
       "        vertical-align: middle;\n",
       "    }\n",
       "\n",
       "    .dataframe tbody tr th {\n",
       "        vertical-align: top;\n",
       "    }\n",
       "\n",
       "    .dataframe thead th {\n",
       "        text-align: right;\n",
       "    }\n",
       "</style>\n",
       "<table border=\"1\" class=\"dataframe\">\n",
       "  <thead>\n",
       "    <tr style=\"text-align: right;\">\n",
       "      <th></th>\n",
       "      <th></th>\n",
       "      <th></th>\n",
       "      <th>Monat</th>\n",
       "      <th>Abschlüsse</th>\n",
       "    </tr>\n",
       "    <tr>\n",
       "      <th>Gesellschaft</th>\n",
       "      <th>Filiale</th>\n",
       "      <th>Mitarbeiter</th>\n",
       "      <th></th>\n",
       "      <th></th>\n",
       "    </tr>\n",
       "  </thead>\n",
       "  <tbody>\n",
       "    <tr>\n",
       "      <td>Nord Amerika</td>\n",
       "      <td>Kanada</td>\n",
       "      <td>Mitarbeiter A</td>\n",
       "      <td>Jan 20</td>\n",
       "      <td>5</td>\n",
       "    </tr>\n",
       "    <tr>\n",
       "      <td>Europa</td>\n",
       "      <td>Spanien</td>\n",
       "      <td>Mitarbeiter P</td>\n",
       "      <td>Jan 20</td>\n",
       "      <td>5</td>\n",
       "    </tr>\n",
       "    <tr>\n",
       "      <td>Asien</td>\n",
       "      <td>Indien</td>\n",
       "      <td>Mitarbeiter N</td>\n",
       "      <td>Jan 20</td>\n",
       "      <td>1</td>\n",
       "    </tr>\n",
       "    <tr>\n",
       "      <td>Afrika</td>\n",
       "      <td>Südafrika</td>\n",
       "      <td>Mitarbeiter Ü</td>\n",
       "      <td>Jan 20</td>\n",
       "      <td>10</td>\n",
       "    </tr>\n",
       "    <tr>\n",
       "      <td>Nord Amerika</td>\n",
       "      <td>Kanada</td>\n",
       "      <td>Mitarbeiter A</td>\n",
       "      <td>Feb 20</td>\n",
       "      <td>6</td>\n",
       "    </tr>\n",
       "    <tr>\n",
       "      <td>Europa</td>\n",
       "      <td>Spanien</td>\n",
       "      <td>Mitarbeiter P</td>\n",
       "      <td>Feb 20</td>\n",
       "      <td>8</td>\n",
       "    </tr>\n",
       "    <tr>\n",
       "      <td>Asien</td>\n",
       "      <td>Indien</td>\n",
       "      <td>Mitarbeiter N</td>\n",
       "      <td>Feb 20</td>\n",
       "      <td>10</td>\n",
       "    </tr>\n",
       "    <tr>\n",
       "      <td>Afrika</td>\n",
       "      <td>Südafrika</td>\n",
       "      <td>Mitarbeiter Ü</td>\n",
       "      <td>Feb 20</td>\n",
       "      <td>1</td>\n",
       "    </tr>\n",
       "    <tr>\n",
       "      <td>Europa</td>\n",
       "      <td>Polen</td>\n",
       "      <td>Mitarbeiter O</td>\n",
       "      <td>Feb 20</td>\n",
       "      <td>9</td>\n",
       "    </tr>\n",
       "    <tr>\n",
       "      <td>Nord Amerika</td>\n",
       "      <td>Kanada</td>\n",
       "      <td>Mitarbeiter A</td>\n",
       "      <td>Jan 20</td>\n",
       "      <td>3</td>\n",
       "    </tr>\n",
       "    <tr>\n",
       "      <td>Afrika</td>\n",
       "      <td>Südafrika</td>\n",
       "      <td>Mitarbeiter Ü</td>\n",
       "      <td>Jan 20</td>\n",
       "      <td>9</td>\n",
       "    </tr>\n",
       "    <tr>\n",
       "      <td>Europa</td>\n",
       "      <td>Polen</td>\n",
       "      <td>Mitarbeiter O</td>\n",
       "      <td>Jan 20</td>\n",
       "      <td>2</td>\n",
       "    </tr>\n",
       "    <tr>\n",
       "      <td>Nord Amerika</td>\n",
       "      <td>Kanada</td>\n",
       "      <td>Mitarbeiter A</td>\n",
       "      <td>Feb 20</td>\n",
       "      <td>6</td>\n",
       "    </tr>\n",
       "    <tr>\n",
       "      <td>Afrika</td>\n",
       "      <td>Südafrika</td>\n",
       "      <td>Mitarbeiter Ü</td>\n",
       "      <td>Feb 20</td>\n",
       "      <td>8</td>\n",
       "    </tr>\n",
       "    <tr>\n",
       "      <td>Europa</td>\n",
       "      <td>Polen</td>\n",
       "      <td>Mitarbeiter O</td>\n",
       "      <td>Feb 20</td>\n",
       "      <td>8</td>\n",
       "    </tr>\n",
       "    <tr>\n",
       "      <td>Nord Amerika</td>\n",
       "      <td>Kanada</td>\n",
       "      <td>Mitarbeiter A</td>\n",
       "      <td>Jan 20</td>\n",
       "      <td>10</td>\n",
       "    </tr>\n",
       "    <tr>\n",
       "      <td>Europa</td>\n",
       "      <td>Spanien</td>\n",
       "      <td>Mitarbeiter P</td>\n",
       "      <td>Jan 20</td>\n",
       "      <td>1</td>\n",
       "    </tr>\n",
       "    <tr>\n",
       "      <td>Afrika</td>\n",
       "      <td>Südafrika</td>\n",
       "      <td>Mitarbeiter Ü</td>\n",
       "      <td>Jan 20</td>\n",
       "      <td>1</td>\n",
       "    </tr>\n",
       "    <tr>\n",
       "      <td>Europa</td>\n",
       "      <td>Polen</td>\n",
       "      <td>Mitarbeiter O</td>\n",
       "      <td>Jan 20</td>\n",
       "      <td>3</td>\n",
       "    </tr>\n",
       "    <tr>\n",
       "      <td>Nord Amerika</td>\n",
       "      <td>Kanada</td>\n",
       "      <td>Mitarbeiter A</td>\n",
       "      <td>Feb 20</td>\n",
       "      <td>8</td>\n",
       "    </tr>\n",
       "    <tr>\n",
       "      <td>Europa</td>\n",
       "      <td>Spanien</td>\n",
       "      <td>Mitarbeiter P</td>\n",
       "      <td>Feb 20</td>\n",
       "      <td>4</td>\n",
       "    </tr>\n",
       "    <tr>\n",
       "      <td>Afrika</td>\n",
       "      <td>Südafrika</td>\n",
       "      <td>Mitarbeiter Ü</td>\n",
       "      <td>Feb 20</td>\n",
       "      <td>9</td>\n",
       "    </tr>\n",
       "    <tr>\n",
       "      <td>Europa</td>\n",
       "      <td>Polen</td>\n",
       "      <td>Mitarbeiter O</td>\n",
       "      <td>Feb 20</td>\n",
       "      <td>4</td>\n",
       "    </tr>\n",
       "  </tbody>\n",
       "</table>\n",
       "</div>"
      ],
      "text/plain": [
       "                                       Monat  Abschlüsse\n",
       "Gesellschaft Filiale   Mitarbeiter                      \n",
       "Nord Amerika Kanada    Mitarbeiter A  Jan 20           5\n",
       "Europa       Spanien   Mitarbeiter P  Jan 20           5\n",
       "Asien        Indien    Mitarbeiter N  Jan 20           1\n",
       "Afrika       Südafrika Mitarbeiter Ü  Jan 20          10\n",
       "Nord Amerika Kanada    Mitarbeiter A  Feb 20           6\n",
       "Europa       Spanien   Mitarbeiter P  Feb 20           8\n",
       "Asien        Indien    Mitarbeiter N  Feb 20          10\n",
       "Afrika       Südafrika Mitarbeiter Ü  Feb 20           1\n",
       "Europa       Polen     Mitarbeiter O  Feb 20           9\n",
       "Nord Amerika Kanada    Mitarbeiter A  Jan 20           3\n",
       "Afrika       Südafrika Mitarbeiter Ü  Jan 20           9\n",
       "Europa       Polen     Mitarbeiter O  Jan 20           2\n",
       "Nord Amerika Kanada    Mitarbeiter A  Feb 20           6\n",
       "Afrika       Südafrika Mitarbeiter Ü  Feb 20           8\n",
       "Europa       Polen     Mitarbeiter O  Feb 20           8\n",
       "Nord Amerika Kanada    Mitarbeiter A  Jan 20          10\n",
       "Europa       Spanien   Mitarbeiter P  Jan 20           1\n",
       "Afrika       Südafrika Mitarbeiter Ü  Jan 20           1\n",
       "Europa       Polen     Mitarbeiter O  Jan 20           3\n",
       "Nord Amerika Kanada    Mitarbeiter A  Feb 20           8\n",
       "Europa       Spanien   Mitarbeiter P  Feb 20           4\n",
       "Afrika       Südafrika Mitarbeiter Ü  Feb 20           9\n",
       "Europa       Polen     Mitarbeiter O  Feb 20           4"
      ]
     },
     "execution_count": 260,
     "metadata": {},
     "output_type": "execute_result"
    }
   ],
   "source": [
    "pd.concat([df_stove, df_cleaner, df_fridge])"
   ]
  },
  {
   "cell_type": "markdown",
   "metadata": {},
   "source": [
    "Nun haben wir eine lange Tabelle mit allen Werten, jedoch können wir nun nicht mehr unterscheiden, welcher Wert aus welcher Tabelle ursprünglich stammt. Daher benennen wir die Spalte Abschlüsse vorher noch um. Die verbunden Tabelle speichern wir in der variablen `df`."
   ]
  },
  {
   "cell_type": "code",
   "execution_count": 261,
   "metadata": {},
   "outputs": [],
   "source": [
    "df = pd.concat([\n",
    "    df_stove.rename({\"Abschlüsse\": \"Abschlüsse Ofen\"}, axis=1),\n",
    "    df_cleaner.rename({\"Abschlüsse\": \"Abschlüsse Spühlmaschine\"}, axis=1),\n",
    "    df_fridge.rename({\"Abschlüsse\": \"Abschlüsse Kühlschrank\"}, axis=1)\n",
    "    ], sort=False)"
   ]
  },
  {
   "cell_type": "code",
   "execution_count": 262,
   "metadata": {},
   "outputs": [
    {
     "data": {
      "text/html": [
       "<div>\n",
       "<style scoped>\n",
       "    .dataframe tbody tr th:only-of-type {\n",
       "        vertical-align: middle;\n",
       "    }\n",
       "\n",
       "    .dataframe tbody tr th {\n",
       "        vertical-align: top;\n",
       "    }\n",
       "\n",
       "    .dataframe thead th {\n",
       "        text-align: right;\n",
       "    }\n",
       "</style>\n",
       "<table border=\"1\" class=\"dataframe\">\n",
       "  <thead>\n",
       "    <tr style=\"text-align: right;\">\n",
       "      <th></th>\n",
       "      <th></th>\n",
       "      <th></th>\n",
       "      <th>Monat</th>\n",
       "      <th>Abschlüsse Ofen</th>\n",
       "      <th>Abschlüsse Spühlmaschine</th>\n",
       "      <th>Abschlüsse Kühlschrank</th>\n",
       "    </tr>\n",
       "    <tr>\n",
       "      <th>Gesellschaft</th>\n",
       "      <th>Filiale</th>\n",
       "      <th>Mitarbeiter</th>\n",
       "      <th></th>\n",
       "      <th></th>\n",
       "      <th></th>\n",
       "      <th></th>\n",
       "    </tr>\n",
       "  </thead>\n",
       "  <tbody>\n",
       "    <tr>\n",
       "      <td>Nord Amerika</td>\n",
       "      <td>Kanada</td>\n",
       "      <td>Mitarbeiter A</td>\n",
       "      <td>Jan 20</td>\n",
       "      <td>5.0</td>\n",
       "      <td>NaN</td>\n",
       "      <td>NaN</td>\n",
       "    </tr>\n",
       "    <tr>\n",
       "      <td>Europa</td>\n",
       "      <td>Spanien</td>\n",
       "      <td>Mitarbeiter P</td>\n",
       "      <td>Jan 20</td>\n",
       "      <td>5.0</td>\n",
       "      <td>NaN</td>\n",
       "      <td>NaN</td>\n",
       "    </tr>\n",
       "    <tr>\n",
       "      <td>Asien</td>\n",
       "      <td>Indien</td>\n",
       "      <td>Mitarbeiter N</td>\n",
       "      <td>Jan 20</td>\n",
       "      <td>1.0</td>\n",
       "      <td>NaN</td>\n",
       "      <td>NaN</td>\n",
       "    </tr>\n",
       "    <tr>\n",
       "      <td>Afrika</td>\n",
       "      <td>Südafrika</td>\n",
       "      <td>Mitarbeiter Ü</td>\n",
       "      <td>Jan 20</td>\n",
       "      <td>10.0</td>\n",
       "      <td>NaN</td>\n",
       "      <td>NaN</td>\n",
       "    </tr>\n",
       "    <tr>\n",
       "      <td>Nord Amerika</td>\n",
       "      <td>Kanada</td>\n",
       "      <td>Mitarbeiter A</td>\n",
       "      <td>Feb 20</td>\n",
       "      <td>6.0</td>\n",
       "      <td>NaN</td>\n",
       "      <td>NaN</td>\n",
       "    </tr>\n",
       "  </tbody>\n",
       "</table>\n",
       "</div>"
      ],
      "text/plain": [
       "                                       Monat  Abschlüsse Ofen  \\\n",
       "Gesellschaft Filiale   Mitarbeiter                              \n",
       "Nord Amerika Kanada    Mitarbeiter A  Jan 20              5.0   \n",
       "Europa       Spanien   Mitarbeiter P  Jan 20              5.0   \n",
       "Asien        Indien    Mitarbeiter N  Jan 20              1.0   \n",
       "Afrika       Südafrika Mitarbeiter Ü  Jan 20             10.0   \n",
       "Nord Amerika Kanada    Mitarbeiter A  Feb 20              6.0   \n",
       "\n",
       "                                      Abschlüsse Spühlmaschine  \\\n",
       "Gesellschaft Filiale   Mitarbeiter                               \n",
       "Nord Amerika Kanada    Mitarbeiter A                       NaN   \n",
       "Europa       Spanien   Mitarbeiter P                       NaN   \n",
       "Asien        Indien    Mitarbeiter N                       NaN   \n",
       "Afrika       Südafrika Mitarbeiter Ü                       NaN   \n",
       "Nord Amerika Kanada    Mitarbeiter A                       NaN   \n",
       "\n",
       "                                      Abschlüsse Kühlschrank  \n",
       "Gesellschaft Filiale   Mitarbeiter                            \n",
       "Nord Amerika Kanada    Mitarbeiter A                     NaN  \n",
       "Europa       Spanien   Mitarbeiter P                     NaN  \n",
       "Asien        Indien    Mitarbeiter N                     NaN  \n",
       "Afrika       Südafrika Mitarbeiter Ü                     NaN  \n",
       "Nord Amerika Kanada    Mitarbeiter A                     NaN  "
      ]
     },
     "execution_count": 262,
     "metadata": {},
     "output_type": "execute_result"
    }
   ],
   "source": [
    "df.head()"
   ]
  },
  {
   "cell_type": "markdown",
   "metadata": {},
   "source": [
    "Wir sehen nun, dass wir drei unterschiedliche Abschluss Werte haben. "
   ]
  },
  {
   "cell_type": "markdown",
   "metadata": {},
   "source": [
    "Diese Werte wollen wir nun nach Mitarbeitern Sortieren und in einer Zeitreihe anzeigen."
   ]
  },
  {
   "cell_type": "code",
   "execution_count": 263,
   "metadata": {},
   "outputs": [
    {
     "data": {
      "text/html": [
       "<div>\n",
       "<style scoped>\n",
       "    .dataframe tbody tr th:only-of-type {\n",
       "        vertical-align: middle;\n",
       "    }\n",
       "\n",
       "    .dataframe tbody tr th {\n",
       "        vertical-align: top;\n",
       "    }\n",
       "\n",
       "    .dataframe thead th {\n",
       "        text-align: right;\n",
       "    }\n",
       "</style>\n",
       "<table border=\"1\" class=\"dataframe\">\n",
       "  <thead>\n",
       "    <tr style=\"text-align: right;\">\n",
       "      <th></th>\n",
       "      <th></th>\n",
       "      <th></th>\n",
       "      <th>Monat</th>\n",
       "      <th>Jan 20</th>\n",
       "      <th>Feb 20</th>\n",
       "    </tr>\n",
       "    <tr>\n",
       "      <th></th>\n",
       "      <th>Gesellschaft</th>\n",
       "      <th>Filiale</th>\n",
       "      <th>Mitarbeiter</th>\n",
       "      <th></th>\n",
       "      <th></th>\n",
       "    </tr>\n",
       "  </thead>\n",
       "  <tbody>\n",
       "    <tr>\n",
       "      <td rowspan=\"4\" valign=\"top\">Abschlüsse Kühlschrank</td>\n",
       "      <td>Afrika</td>\n",
       "      <td>Südafrika</td>\n",
       "      <td>Mitarbeiter Ü</td>\n",
       "      <td>1.0</td>\n",
       "      <td>9.0</td>\n",
       "    </tr>\n",
       "    <tr>\n",
       "      <td rowspan=\"2\" valign=\"top\">Europa</td>\n",
       "      <td>Polen</td>\n",
       "      <td>Mitarbeiter O</td>\n",
       "      <td>3.0</td>\n",
       "      <td>4.0</td>\n",
       "    </tr>\n",
       "    <tr>\n",
       "      <td>Spanien</td>\n",
       "      <td>Mitarbeiter P</td>\n",
       "      <td>1.0</td>\n",
       "      <td>4.0</td>\n",
       "    </tr>\n",
       "    <tr>\n",
       "      <td>Nord Amerika</td>\n",
       "      <td>Kanada</td>\n",
       "      <td>Mitarbeiter A</td>\n",
       "      <td>10.0</td>\n",
       "      <td>8.0</td>\n",
       "    </tr>\n",
       "    <tr>\n",
       "      <td rowspan=\"5\" valign=\"top\">Abschlüsse Ofen</td>\n",
       "      <td>Afrika</td>\n",
       "      <td>Südafrika</td>\n",
       "      <td>Mitarbeiter Ü</td>\n",
       "      <td>10.0</td>\n",
       "      <td>1.0</td>\n",
       "    </tr>\n",
       "    <tr>\n",
       "      <td>Asien</td>\n",
       "      <td>Indien</td>\n",
       "      <td>Mitarbeiter N</td>\n",
       "      <td>1.0</td>\n",
       "      <td>10.0</td>\n",
       "    </tr>\n",
       "    <tr>\n",
       "      <td rowspan=\"2\" valign=\"top\">Europa</td>\n",
       "      <td>Polen</td>\n",
       "      <td>Mitarbeiter O</td>\n",
       "      <td>NaN</td>\n",
       "      <td>9.0</td>\n",
       "    </tr>\n",
       "    <tr>\n",
       "      <td>Spanien</td>\n",
       "      <td>Mitarbeiter P</td>\n",
       "      <td>5.0</td>\n",
       "      <td>8.0</td>\n",
       "    </tr>\n",
       "    <tr>\n",
       "      <td>Nord Amerika</td>\n",
       "      <td>Kanada</td>\n",
       "      <td>Mitarbeiter A</td>\n",
       "      <td>5.0</td>\n",
       "      <td>6.0</td>\n",
       "    </tr>\n",
       "    <tr>\n",
       "      <td rowspan=\"3\" valign=\"top\">Abschlüsse Spühlmaschine</td>\n",
       "      <td>Afrika</td>\n",
       "      <td>Südafrika</td>\n",
       "      <td>Mitarbeiter Ü</td>\n",
       "      <td>9.0</td>\n",
       "      <td>8.0</td>\n",
       "    </tr>\n",
       "    <tr>\n",
       "      <td>Europa</td>\n",
       "      <td>Polen</td>\n",
       "      <td>Mitarbeiter O</td>\n",
       "      <td>2.0</td>\n",
       "      <td>8.0</td>\n",
       "    </tr>\n",
       "    <tr>\n",
       "      <td>Nord Amerika</td>\n",
       "      <td>Kanada</td>\n",
       "      <td>Mitarbeiter A</td>\n",
       "      <td>3.0</td>\n",
       "      <td>6.0</td>\n",
       "    </tr>\n",
       "  </tbody>\n",
       "</table>\n",
       "</div>"
      ],
      "text/plain": [
       "Monat                                                          Jan 20  Feb 20\n",
       "                         Gesellschaft Filiale   Mitarbeiter                  \n",
       "Abschlüsse Kühlschrank   Afrika       Südafrika Mitarbeiter Ü     1.0     9.0\n",
       "                         Europa       Polen     Mitarbeiter O     3.0     4.0\n",
       "                                      Spanien   Mitarbeiter P     1.0     4.0\n",
       "                         Nord Amerika Kanada    Mitarbeiter A    10.0     8.0\n",
       "Abschlüsse Ofen          Afrika       Südafrika Mitarbeiter Ü    10.0     1.0\n",
       "                         Asien        Indien    Mitarbeiter N     1.0    10.0\n",
       "                         Europa       Polen     Mitarbeiter O     NaN     9.0\n",
       "                                      Spanien   Mitarbeiter P     5.0     8.0\n",
       "                         Nord Amerika Kanada    Mitarbeiter A     5.0     6.0\n",
       "Abschlüsse Spühlmaschine Afrika       Südafrika Mitarbeiter Ü     9.0     8.0\n",
       "                         Europa       Polen     Mitarbeiter O     2.0     8.0\n",
       "                         Nord Amerika Kanada    Mitarbeiter A     3.0     6.0"
      ]
     },
     "execution_count": 263,
     "metadata": {},
     "output_type": "execute_result"
    }
   ],
   "source": [
    "df_pivot = pd.pivot_table(\n",
    "    data=df.reset_index(), \n",
    "    index= 'Monat', \n",
    "    columns=[\"Gesellschaft\", \"Filiale\", \"Mitarbeiter\"], \n",
    "    values=[\"Abschlüsse Ofen\", \"Abschlüsse Kühlschrank\", \"Abschlüsse Spühlmaschine\"]\n",
    ").sort_index(ascending=False).transpose()\n",
    "df_pivot"
   ]
  },
  {
   "cell_type": "markdown",
   "metadata": {},
   "source": [
    "Was haben wir hier gemacht?\n",
    "\n",
    "`pd` ist die übergeordnete Pandas Bibliothek, die wir oben importiert haben. Die Variable `df` enhält ein Unterobjekt von `pd`. Das Dataframe. In `df` ist also eine Instance von `pd.DataFrame` gepeichert. \n",
    "\n",
    "`pd` liefert mit `pivot_table` eine Funktion, die es uns, ähnlich wie in Excel ermöglicht auf Grundlage von Daten eine Pivot Tabelle zu erstellen, die Spalten Werte in Zeilen und Spalten Überschriften verwandelt. \n",
    "\n",
    "Der Funktionsaufruf hat folgenden Aufbau:  \n",
    "\n",
    "Eine pd.DataFrame Instance:  \n",
    "`data=df.reset_index(),` \n",
    "\n",
    "\n",
    "Die unterschiedlichen Monate aus der Spalte Monat wollen wir uns als Zeilenindex anzeigen lassen:  \n",
    "`index='Monat',`\n",
    "\n",
    "\n",
    "Als Spalten sollen uns die jeweilige Gesellschaft, die Filiale und der einzelne Mitarbeiter dienen:  \n",
    "`columns=[\"Gesellschaft\", \"Filiale\", \"Mitarbeiter\"]`\n",
    "\n",
    "Anzahl der Abschlüsse je Produkt:  \n",
    "`values = [\"Abschlüsse Ofen\", \"Abschlüsse Kühlschrank\", \"Abschlüsse Spühlmaschine\"]`\n",
    "\n",
    "Die Monatszeilen (Index) sollen in aufsteigender Reihenfolge angezeigt werden:  \n",
    "`.sort_index(ascending=False)`   \n",
    "\n",
    "Die Zeilen und Spalten werden getauscht:  \n",
    "`.transpose()`"
   ]
  },
  {
   "cell_type": "markdown",
   "metadata": {},
   "source": [
    "# Auswertung je Mitarbeiter"
   ]
  },
  {
   "cell_type": "markdown",
   "metadata": {},
   "source": [
    "Wollen wir uns nun die Daten für ein spezielles Produkt ansehen, z.B. `Abschlüsse Ofen` gehen wir wie folgt vor:"
   ]
  },
  {
   "cell_type": "code",
   "execution_count": 264,
   "metadata": {},
   "outputs": [
    {
     "data": {
      "text/html": [
       "<div>\n",
       "<style scoped>\n",
       "    .dataframe tbody tr th:only-of-type {\n",
       "        vertical-align: middle;\n",
       "    }\n",
       "\n",
       "    .dataframe tbody tr th {\n",
       "        vertical-align: top;\n",
       "    }\n",
       "\n",
       "    .dataframe thead th {\n",
       "        text-align: right;\n",
       "    }\n",
       "</style>\n",
       "<table border=\"1\" class=\"dataframe\">\n",
       "  <thead>\n",
       "    <tr style=\"text-align: right;\">\n",
       "      <th></th>\n",
       "      <th></th>\n",
       "      <th>Monat</th>\n",
       "      <th>Jan 20</th>\n",
       "      <th>Feb 20</th>\n",
       "    </tr>\n",
       "    <tr>\n",
       "      <th>Gesellschaft</th>\n",
       "      <th>Filiale</th>\n",
       "      <th>Mitarbeiter</th>\n",
       "      <th></th>\n",
       "      <th></th>\n",
       "    </tr>\n",
       "  </thead>\n",
       "  <tbody>\n",
       "    <tr>\n",
       "      <td>Afrika</td>\n",
       "      <td>Südafrika</td>\n",
       "      <td>Mitarbeiter Ü</td>\n",
       "      <td>10.0</td>\n",
       "      <td>1.0</td>\n",
       "    </tr>\n",
       "    <tr>\n",
       "      <td>Asien</td>\n",
       "      <td>Indien</td>\n",
       "      <td>Mitarbeiter N</td>\n",
       "      <td>1.0</td>\n",
       "      <td>10.0</td>\n",
       "    </tr>\n",
       "    <tr>\n",
       "      <td rowspan=\"2\" valign=\"top\">Europa</td>\n",
       "      <td>Polen</td>\n",
       "      <td>Mitarbeiter O</td>\n",
       "      <td>NaN</td>\n",
       "      <td>9.0</td>\n",
       "    </tr>\n",
       "    <tr>\n",
       "      <td>Spanien</td>\n",
       "      <td>Mitarbeiter P</td>\n",
       "      <td>5.0</td>\n",
       "      <td>8.0</td>\n",
       "    </tr>\n",
       "    <tr>\n",
       "      <td>Nord Amerika</td>\n",
       "      <td>Kanada</td>\n",
       "      <td>Mitarbeiter A</td>\n",
       "      <td>5.0</td>\n",
       "      <td>6.0</td>\n",
       "    </tr>\n",
       "  </tbody>\n",
       "</table>\n",
       "</div>"
      ],
      "text/plain": [
       "Monat                                 Jan 20  Feb 20\n",
       "Gesellschaft Filiale   Mitarbeiter                  \n",
       "Afrika       Südafrika Mitarbeiter Ü    10.0     1.0\n",
       "Asien        Indien    Mitarbeiter N     1.0    10.0\n",
       "Europa       Polen     Mitarbeiter O     NaN     9.0\n",
       "             Spanien   Mitarbeiter P     5.0     8.0\n",
       "Nord Amerika Kanada    Mitarbeiter A     5.0     6.0"
      ]
     },
     "execution_count": 264,
     "metadata": {},
     "output_type": "execute_result"
    }
   ],
   "source": [
    "df_pivot.loc['Abschlüsse Ofen']"
   ]
  },
  {
   "cell_type": "markdown",
   "metadata": {},
   "source": [
    "Wollen wir eine spezielle Vertriebsgesellschaft identifizieren, zum Beispiel `Europa` gehen wir wie folgt vor:"
   ]
  },
  {
   "cell_type": "code",
   "execution_count": 265,
   "metadata": {},
   "outputs": [
    {
     "data": {
      "text/html": [
       "<div>\n",
       "<style scoped>\n",
       "    .dataframe tbody tr th:only-of-type {\n",
       "        vertical-align: middle;\n",
       "    }\n",
       "\n",
       "    .dataframe tbody tr th {\n",
       "        vertical-align: top;\n",
       "    }\n",
       "\n",
       "    .dataframe thead th {\n",
       "        text-align: right;\n",
       "    }\n",
       "</style>\n",
       "<table border=\"1\" class=\"dataframe\">\n",
       "  <thead>\n",
       "    <tr style=\"text-align: right;\">\n",
       "      <th></th>\n",
       "      <th>Monat</th>\n",
       "      <th>Jan 20</th>\n",
       "      <th>Feb 20</th>\n",
       "    </tr>\n",
       "    <tr>\n",
       "      <th>Filiale</th>\n",
       "      <th>Mitarbeiter</th>\n",
       "      <th></th>\n",
       "      <th></th>\n",
       "    </tr>\n",
       "  </thead>\n",
       "  <tbody>\n",
       "    <tr>\n",
       "      <td>Polen</td>\n",
       "      <td>Mitarbeiter O</td>\n",
       "      <td>NaN</td>\n",
       "      <td>9.0</td>\n",
       "    </tr>\n",
       "    <tr>\n",
       "      <td>Spanien</td>\n",
       "      <td>Mitarbeiter P</td>\n",
       "      <td>5.0</td>\n",
       "      <td>8.0</td>\n",
       "    </tr>\n",
       "  </tbody>\n",
       "</table>\n",
       "</div>"
      ],
      "text/plain": [
       "Monat                  Jan 20  Feb 20\n",
       "Filiale Mitarbeiter                  \n",
       "Polen   Mitarbeiter O     NaN     9.0\n",
       "Spanien Mitarbeiter P     5.0     8.0"
      ]
     },
     "execution_count": 265,
     "metadata": {},
     "output_type": "execute_result"
    }
   ],
   "source": [
    "df_pivot.loc[('Abschlüsse Ofen', 'Europa')]"
   ]
  },
  {
   "cell_type": "markdown",
   "metadata": {},
   "source": [
    "und für einen Speziellen Mitarbeiter:"
   ]
  },
  {
   "cell_type": "code",
   "execution_count": 266,
   "metadata": {},
   "outputs": [
    {
     "data": {
      "text/html": [
       "<div>\n",
       "<style scoped>\n",
       "    .dataframe tbody tr th:only-of-type {\n",
       "        vertical-align: middle;\n",
       "    }\n",
       "\n",
       "    .dataframe tbody tr th {\n",
       "        vertical-align: top;\n",
       "    }\n",
       "\n",
       "    .dataframe thead th {\n",
       "        text-align: right;\n",
       "    }\n",
       "</style>\n",
       "<table border=\"1\" class=\"dataframe\">\n",
       "  <thead>\n",
       "    <tr style=\"text-align: right;\">\n",
       "      <th></th>\n",
       "      <th></th>\n",
       "      <th>Monat</th>\n",
       "      <th>Jan 20</th>\n",
       "      <th>Feb 20</th>\n",
       "    </tr>\n",
       "    <tr>\n",
       "      <th></th>\n",
       "      <th>Gesellschaft</th>\n",
       "      <th>Filiale</th>\n",
       "      <th></th>\n",
       "      <th></th>\n",
       "    </tr>\n",
       "  </thead>\n",
       "  <tbody>\n",
       "    <tr>\n",
       "      <td>Abschlüsse Kühlschrank</td>\n",
       "      <td>Afrika</td>\n",
       "      <td>Südafrika</td>\n",
       "      <td>1.0</td>\n",
       "      <td>9.0</td>\n",
       "    </tr>\n",
       "    <tr>\n",
       "      <td>Abschlüsse Ofen</td>\n",
       "      <td>Afrika</td>\n",
       "      <td>Südafrika</td>\n",
       "      <td>10.0</td>\n",
       "      <td>1.0</td>\n",
       "    </tr>\n",
       "    <tr>\n",
       "      <td>Abschlüsse Spühlmaschine</td>\n",
       "      <td>Afrika</td>\n",
       "      <td>Südafrika</td>\n",
       "      <td>9.0</td>\n",
       "      <td>8.0</td>\n",
       "    </tr>\n",
       "  </tbody>\n",
       "</table>\n",
       "</div>"
      ],
      "text/plain": [
       "Monat                                            Jan 20  Feb 20\n",
       "                         Gesellschaft Filiale                  \n",
       "Abschlüsse Kühlschrank   Afrika       Südafrika     1.0     9.0\n",
       "Abschlüsse Ofen          Afrika       Südafrika    10.0     1.0\n",
       "Abschlüsse Spühlmaschine Afrika       Südafrika     9.0     8.0"
      ]
     },
     "execution_count": 266,
     "metadata": {},
     "output_type": "execute_result"
    }
   ],
   "source": [
    "df = df_pivot.T\n",
    "df.xs('Mitarbeiter Ü', level='Mitarbeiter', axis=1).T"
   ]
  },
  {
   "cell_type": "markdown",
   "metadata": {},
   "source": [
    "Nun wollen wir für einzelne Bericht erstellen, für jede Gesellschaft, für jede Filiale und für jeden Mitarbeiter. Diese Berichte sollen aber so aufgebaut sein, dass zum Beispiel die Gesellschaft `Europa` nur die Daten von `Polen` und `Spanien` sieht, nicht jedoch von `Indien`. Der Bericht der Filiale `Polen` soll keine Daten von `Spanien` sehen und die Mitarbeiter Berichte sollen nur die Daten des jeweiligen Mitarbeiters enthalten."
   ]
  },
  {
   "cell_type": "markdown",
   "metadata": {},
   "source": [
    "wir ermitteln als erstes alle Gesellschaften. "
   ]
  },
  {
   "cell_type": "code",
   "execution_count": 267,
   "metadata": {},
   "outputs": [
    {
     "data": {
      "text/plain": [
       "array(['Afrika', 'Europa', 'Nord Amerika', 'Asien'], dtype=object)"
      ]
     },
     "execution_count": 267,
     "metadata": {},
     "output_type": "execute_result"
    }
   ],
   "source": [
    "gesellschaften = df_pivot.reset_index()[\"Gesellschaft\"].unique()\n",
    "gesellschaften"
   ]
  },
  {
   "cell_type": "markdown",
   "metadata": {},
   "source": [
    "Nun iterieren wir mit einer Schleife über die Gesellschaften und erstellen die Berichte"
   ]
  },
  {
   "cell_type": "code",
   "execution_count": 268,
   "metadata": {},
   "outputs": [
    {
     "data": {
      "text/html": [
       "<div>\n",
       "<style scoped>\n",
       "    .dataframe tbody tr th:only-of-type {\n",
       "        vertical-align: middle;\n",
       "    }\n",
       "\n",
       "    .dataframe tbody tr th {\n",
       "        vertical-align: top;\n",
       "    }\n",
       "\n",
       "    .dataframe thead th {\n",
       "        text-align: right;\n",
       "    }\n",
       "</style>\n",
       "<table border=\"1\" class=\"dataframe\">\n",
       "  <thead>\n",
       "    <tr style=\"text-align: right;\">\n",
       "      <th></th>\n",
       "      <th></th>\n",
       "      <th>Monat</th>\n",
       "      <th>Jan 20</th>\n",
       "      <th>Feb 20</th>\n",
       "    </tr>\n",
       "    <tr>\n",
       "      <th></th>\n",
       "      <th>Filiale</th>\n",
       "      <th>Mitarbeiter</th>\n",
       "      <th></th>\n",
       "      <th></th>\n",
       "    </tr>\n",
       "  </thead>\n",
       "  <tbody>\n",
       "    <tr>\n",
       "      <td>Abschlüsse Kühlschrank</td>\n",
       "      <td>Südafrika</td>\n",
       "      <td>Mitarbeiter Ü</td>\n",
       "      <td>1.0</td>\n",
       "      <td>9.0</td>\n",
       "    </tr>\n",
       "    <tr>\n",
       "      <td>Abschlüsse Ofen</td>\n",
       "      <td>Südafrika</td>\n",
       "      <td>Mitarbeiter Ü</td>\n",
       "      <td>10.0</td>\n",
       "      <td>1.0</td>\n",
       "    </tr>\n",
       "    <tr>\n",
       "      <td>Abschlüsse Spühlmaschine</td>\n",
       "      <td>Südafrika</td>\n",
       "      <td>Mitarbeiter Ü</td>\n",
       "      <td>9.0</td>\n",
       "      <td>8.0</td>\n",
       "    </tr>\n",
       "  </tbody>\n",
       "</table>\n",
       "</div>"
      ],
      "text/plain": [
       "Monat                                             Jan 20  Feb 20\n",
       "                         Filiale   Mitarbeiter                  \n",
       "Abschlüsse Kühlschrank   Südafrika Mitarbeiter Ü     1.0     9.0\n",
       "Abschlüsse Ofen          Südafrika Mitarbeiter Ü    10.0     1.0\n",
       "Abschlüsse Spühlmaschine Südafrika Mitarbeiter Ü     9.0     8.0"
      ]
     },
     "execution_count": 268,
     "metadata": {},
     "output_type": "execute_result"
    }
   ],
   "source": [
    "df_pivot.T.xs('Afrika', level='Gesellschaft', axis=1).T"
   ]
  },
  {
   "cell_type": "markdown",
   "metadata": {},
   "source": [
    "Anstelle, dass wir diesen Befehl für jede Gesellschaft einzeln ausführen, iterieren wir über die Gesellschaften und speichern die daten in einer Liste Namens `export`"
   ]
  },
  {
   "cell_type": "code",
   "execution_count": 269,
   "metadata": {},
   "outputs": [],
   "source": [
    "export = []\n",
    "for gesellschaft in gesellschaften:\n",
    "    export.append(df_pivot.T.xs(gesellschaft, level='Gesellschaft', axis=1).T)"
   ]
  },
  {
   "cell_type": "markdown",
   "metadata": {},
   "source": [
    "Unsere Liste enhält nun vier Einträge"
   ]
  },
  {
   "cell_type": "code",
   "execution_count": 270,
   "metadata": {},
   "outputs": [
    {
     "data": {
      "text/plain": [
       "4"
      ]
     },
     "execution_count": 270,
     "metadata": {},
     "output_type": "execute_result"
    }
   ],
   "source": [
    "len(export)"
   ]
  },
  {
   "cell_type": "markdown",
   "metadata": {},
   "source": [
    "Nun gehen wir für die Filialen ähnlich vor:"
   ]
  },
  {
   "cell_type": "code",
   "execution_count": 271,
   "metadata": {},
   "outputs": [],
   "source": [
    "filialen = df_pivot.reset_index()[\"Filiale\"].unique()\n",
    "\n",
    "for filiale in filialen:\n",
    "    export.append(df_pivot.T.xs(filiale, level='Filiale', axis=1).T)"
   ]
  },
  {
   "cell_type": "markdown",
   "metadata": {},
   "source": [
    "Und zum Schluss für die Mitarbeiter:"
   ]
  },
  {
   "cell_type": "code",
   "execution_count": 272,
   "metadata": {},
   "outputs": [],
   "source": [
    "mitarbeiter = df_pivot.reset_index()[\"Mitarbeiter\"].unique()\n",
    "\n",
    "for ma in mitarbeiter:\n",
    "    export.append(df_pivot.T.xs(ma, level='Mitarbeiter', axis=1).T)\n",
    "    "
   ]
  },
  {
   "cell_type": "markdown",
   "metadata": {},
   "source": [
    "Unsere export Variable sollte nun 14 einträge haben. Gehen wir in die einzelnen Einträge, sehen wir die einzelne Tabelle"
   ]
  },
  {
   "cell_type": "code",
   "execution_count": 273,
   "metadata": {},
   "outputs": [
    {
     "data": {
      "text/plain": [
       "14"
      ]
     },
     "execution_count": 273,
     "metadata": {},
     "output_type": "execute_result"
    }
   ],
   "source": [
    "len(export)"
   ]
  },
  {
   "cell_type": "code",
   "execution_count": 274,
   "metadata": {},
   "outputs": [
    {
     "data": {
      "text/html": [
       "<div>\n",
       "<style scoped>\n",
       "    .dataframe tbody tr th:only-of-type {\n",
       "        vertical-align: middle;\n",
       "    }\n",
       "\n",
       "    .dataframe tbody tr th {\n",
       "        vertical-align: top;\n",
       "    }\n",
       "\n",
       "    .dataframe thead th {\n",
       "        text-align: right;\n",
       "    }\n",
       "</style>\n",
       "<table border=\"1\" class=\"dataframe\">\n",
       "  <thead>\n",
       "    <tr style=\"text-align: right;\">\n",
       "      <th></th>\n",
       "      <th></th>\n",
       "      <th>Monat</th>\n",
       "      <th>Jan 20</th>\n",
       "      <th>Feb 20</th>\n",
       "    </tr>\n",
       "    <tr>\n",
       "      <th></th>\n",
       "      <th>Gesellschaft</th>\n",
       "      <th>Filiale</th>\n",
       "      <th></th>\n",
       "      <th></th>\n",
       "    </tr>\n",
       "  </thead>\n",
       "  <tbody>\n",
       "    <tr>\n",
       "      <td>Abschlüsse Ofen</td>\n",
       "      <td>Asien</td>\n",
       "      <td>Indien</td>\n",
       "      <td>1.0</td>\n",
       "      <td>10.0</td>\n",
       "    </tr>\n",
       "  </tbody>\n",
       "</table>\n",
       "</div>"
      ],
      "text/plain": [
       "Monat                                 Jan 20  Feb 20\n",
       "                Gesellschaft Filiale                \n",
       "Abschlüsse Ofen Asien        Indien      1.0    10.0"
      ]
     },
     "execution_count": 274,
     "metadata": {},
     "output_type": "execute_result"
    }
   ],
   "source": [
    "export[13]"
   ]
  },
  {
   "cell_type": "code",
   "execution_count": 275,
   "metadata": {},
   "outputs": [
    {
     "data": {
      "text/html": [
       "<div>\n",
       "<style scoped>\n",
       "    .dataframe tbody tr th:only-of-type {\n",
       "        vertical-align: middle;\n",
       "    }\n",
       "\n",
       "    .dataframe tbody tr th {\n",
       "        vertical-align: top;\n",
       "    }\n",
       "\n",
       "    .dataframe thead tr th {\n",
       "        text-align: left;\n",
       "    }\n",
       "\n",
       "    .dataframe thead tr:last-of-type th {\n",
       "        text-align: right;\n",
       "    }\n",
       "</style>\n",
       "<table border=\"1\" class=\"dataframe\">\n",
       "  <thead>\n",
       "    <tr>\n",
       "      <th></th>\n",
       "      <th colspan=\"2\" halign=\"left\">Abschlüsse Kühlschrank</th>\n",
       "      <th colspan=\"2\" halign=\"left\">Abschlüsse Ofen</th>\n",
       "      <th>Abschlüsse Spühlmaschine</th>\n",
       "    </tr>\n",
       "    <tr>\n",
       "      <th>Filiale</th>\n",
       "      <th>Polen</th>\n",
       "      <th>Spanien</th>\n",
       "      <th>Polen</th>\n",
       "      <th>Spanien</th>\n",
       "      <th>Polen</th>\n",
       "    </tr>\n",
       "    <tr>\n",
       "      <th>Mitarbeiter</th>\n",
       "      <th>Mitarbeiter O</th>\n",
       "      <th>Mitarbeiter P</th>\n",
       "      <th>Mitarbeiter O</th>\n",
       "      <th>Mitarbeiter P</th>\n",
       "      <th>Mitarbeiter O</th>\n",
       "    </tr>\n",
       "    <tr>\n",
       "      <th>Monat</th>\n",
       "      <th></th>\n",
       "      <th></th>\n",
       "      <th></th>\n",
       "      <th></th>\n",
       "      <th></th>\n",
       "    </tr>\n",
       "  </thead>\n",
       "  <tbody>\n",
       "    <tr>\n",
       "      <td>Jan 20</td>\n",
       "      <td>3.0</td>\n",
       "      <td>1.0</td>\n",
       "      <td>NaN</td>\n",
       "      <td>5.0</td>\n",
       "      <td>2.0</td>\n",
       "    </tr>\n",
       "    <tr>\n",
       "      <td>Feb 20</td>\n",
       "      <td>4.0</td>\n",
       "      <td>4.0</td>\n",
       "      <td>9.0</td>\n",
       "      <td>8.0</td>\n",
       "      <td>8.0</td>\n",
       "    </tr>\n",
       "  </tbody>\n",
       "</table>\n",
       "</div>"
      ],
      "text/plain": [
       "            Abschlüsse Kühlschrank               Abschlüsse Ofen  \\\n",
       "Filiale                      Polen       Spanien           Polen   \n",
       "Mitarbeiter          Mitarbeiter O Mitarbeiter P   Mitarbeiter O   \n",
       "Monat                                                              \n",
       "Jan 20                         3.0           1.0             NaN   \n",
       "Feb 20                         4.0           4.0             9.0   \n",
       "\n",
       "                          Abschlüsse Spühlmaschine  \n",
       "Filiale           Spanien                    Polen  \n",
       "Mitarbeiter Mitarbeiter P            Mitarbeiter O  \n",
       "Monat                                               \n",
       "Jan 20                5.0                      2.0  \n",
       "Feb 20                8.0                      8.0  "
      ]
     },
     "execution_count": 275,
     "metadata": {},
     "output_type": "execute_result"
    }
   ],
   "source": [
    "df_pivot.T.xs(\"Europa\", level=\"Gesellschaft\", axis=1)"
   ]
  },
  {
   "cell_type": "markdown",
   "metadata": {},
   "source": [
    "Anstelle den Code nun dreimal zu kopieren, können wir die Ausführung auch komprimieren."
   ]
  },
  {
   "cell_type": "code",
   "execution_count": 276,
   "metadata": {},
   "outputs": [
    {
     "data": {
      "text/plain": [
       "array(['Südafrika', 'Polen', 'Spanien', 'Kanada', 'Indien'], dtype=object)"
      ]
     },
     "execution_count": 276,
     "metadata": {},
     "output_type": "execute_result"
    }
   ],
   "source": [
    "df_pivot.reset_index()[\"Filiale\"].unique()"
   ]
  },
  {
   "cell_type": "code",
   "execution_count": 277,
   "metadata": {},
   "outputs": [],
   "source": [
    "levels = [\"Gesellschaft\", \"Filiale\", \"Mitarbeiter\"]\n",
    "export = []\n",
    "for level in levels:    \n",
    "    \n",
    "    elems = df_pivot.reset_index()[level].unique()\n",
    "    \n",
    "    for elem in elems:\n",
    "        \n",
    "        # zu jeder Tabelle speichern wir nun zusätzlich ein paar Rahmenparameter\n",
    "        result = {\n",
    "            \"level\": level,\n",
    "            \"name\": elem,\n",
    "            \"data\": df_pivot.T.xs(elem, level=level, axis=1).T \n",
    "        }\n",
    "        export.append(result)"
   ]
  },
  {
   "cell_type": "markdown",
   "metadata": {},
   "source": [
    "unsere export variable sieht nun so aus"
   ]
  },
  {
   "cell_type": "code",
   "execution_count": 278,
   "metadata": {},
   "outputs": [
    {
     "data": {
      "text/plain": [
       "{'level': 'Gesellschaft',\n",
       " 'name': 'Nord Amerika',\n",
       " 'data': Monat                                           Jan 20  Feb 20\n",
       "                          Filiale Mitarbeiter                  \n",
       " Abschlüsse Kühlschrank   Kanada  Mitarbeiter A    10.0     8.0\n",
       " Abschlüsse Ofen          Kanada  Mitarbeiter A     5.0     6.0\n",
       " Abschlüsse Spühlmaschine Kanada  Mitarbeiter A     3.0     6.0}"
      ]
     },
     "execution_count": 278,
     "metadata": {},
     "output_type": "execute_result"
    }
   ],
   "source": [
    "export[2]"
   ]
  },
  {
   "cell_type": "markdown",
   "metadata": {},
   "source": [
    "gehe ich nun in das Feld `data` erscheint das Dataframe wieder"
   ]
  },
  {
   "cell_type": "code",
   "execution_count": 279,
   "metadata": {},
   "outputs": [
    {
     "data": {
      "text/html": [
       "<div>\n",
       "<style scoped>\n",
       "    .dataframe tbody tr th:only-of-type {\n",
       "        vertical-align: middle;\n",
       "    }\n",
       "\n",
       "    .dataframe tbody tr th {\n",
       "        vertical-align: top;\n",
       "    }\n",
       "\n",
       "    .dataframe thead th {\n",
       "        text-align: right;\n",
       "    }\n",
       "</style>\n",
       "<table border=\"1\" class=\"dataframe\">\n",
       "  <thead>\n",
       "    <tr style=\"text-align: right;\">\n",
       "      <th></th>\n",
       "      <th></th>\n",
       "      <th>Monat</th>\n",
       "      <th>Jan 20</th>\n",
       "      <th>Feb 20</th>\n",
       "    </tr>\n",
       "    <tr>\n",
       "      <th></th>\n",
       "      <th>Filiale</th>\n",
       "      <th>Mitarbeiter</th>\n",
       "      <th></th>\n",
       "      <th></th>\n",
       "    </tr>\n",
       "  </thead>\n",
       "  <tbody>\n",
       "    <tr>\n",
       "      <td>Abschlüsse Kühlschrank</td>\n",
       "      <td>Kanada</td>\n",
       "      <td>Mitarbeiter A</td>\n",
       "      <td>10.0</td>\n",
       "      <td>8.0</td>\n",
       "    </tr>\n",
       "    <tr>\n",
       "      <td>Abschlüsse Ofen</td>\n",
       "      <td>Kanada</td>\n",
       "      <td>Mitarbeiter A</td>\n",
       "      <td>5.0</td>\n",
       "      <td>6.0</td>\n",
       "    </tr>\n",
       "    <tr>\n",
       "      <td>Abschlüsse Spühlmaschine</td>\n",
       "      <td>Kanada</td>\n",
       "      <td>Mitarbeiter A</td>\n",
       "      <td>3.0</td>\n",
       "      <td>6.0</td>\n",
       "    </tr>\n",
       "  </tbody>\n",
       "</table>\n",
       "</div>"
      ],
      "text/plain": [
       "Monat                                           Jan 20  Feb 20\n",
       "                         Filiale Mitarbeiter                  \n",
       "Abschlüsse Kühlschrank   Kanada  Mitarbeiter A    10.0     8.0\n",
       "Abschlüsse Ofen          Kanada  Mitarbeiter A     5.0     6.0\n",
       "Abschlüsse Spühlmaschine Kanada  Mitarbeiter A     3.0     6.0"
      ]
     },
     "execution_count": 279,
     "metadata": {},
     "output_type": "execute_result"
    }
   ],
   "source": [
    "export[2]['data']"
   ]
  },
  {
   "cell_type": "markdown",
   "metadata": {},
   "source": [
    "Nun können wir die Berichte generieren"
   ]
  },
  {
   "cell_type": "code",
   "execution_count": 280,
   "metadata": {},
   "outputs": [],
   "source": [
    "for report in export:\n",
    "    # Kreiert einen Dateinamen\n",
    "    filename = report['level'] + \"_\" + report[\"name\"] + \".csv\"\n",
    "    \n",
    "    # Erstellt den Unterordner Reports falls dieser nicht existiert\n",
    "    if not os.path.exists(\"reports\"):\n",
    "            os.mkdir(\"reports\") \n",
    "    \n",
    "    # Speichert das Dataframe als .csv Datei im Reports Ordner ab\n",
    "    report[\"data\"].to_csv(\"reports/\"+ filename)"
   ]
  },
  {
   "cell_type": "markdown",
   "metadata": {},
   "source": [
    "### Vollständiges Script  \n",
    "So sieht nun das vollständige Script aus:"
   ]
  },
  {
   "cell_type": "code",
   "execution_count": 281,
   "metadata": {},
   "outputs": [
    {
     "data": {
      "text/plain": [
       "[None,\n",
       " None,\n",
       " None,\n",
       " None,\n",
       " None,\n",
       " None,\n",
       " None,\n",
       " None,\n",
       " None,\n",
       " None,\n",
       " None,\n",
       " None,\n",
       " None,\n",
       " None]"
      ]
     },
     "execution_count": 281,
     "metadata": {},
     "output_type": "execute_result"
    }
   ],
   "source": [
    "import os\n",
    "import pandas as pd\n",
    "\n",
    "df_pivot = pd.pivot_table(\n",
    "    data=pd.concat([\n",
    "    pd.read_csv(\"files/kühlschrank.csv\", sep=\";\").rename({\"Abschlüsse\": \"Abschlüsse Ofen\"}, axis=1),\n",
    "    pd.read_csv(\"files/spühlmaschine.csv\", sep=\";\") .rename({\"Abschlüsse\": \"Abschlüsse Spühlmaschine\"}, axis=1),\n",
    "    pd.read_csv(\"files/herd.csv\", sep=\";\").rename({\"Abschlüsse\": \"Abschlüsse Kühlschrank\"}, axis=1)\n",
    "    ], sort=False), \n",
    "    index= 'Monat', \n",
    "    columns=[\"Gesellschaft\", \"Filiale\", \"Mitarbeiter\"], \n",
    "    values=[\"Abschlüsse Ofen\", \"Abschlüsse Kühlschrank\", \"Abschlüsse Spühlmaschine\"]\n",
    ").sort_index(ascending=False).transpose()\n",
    "\n",
    "levels = [\"Gesellschaft\", \"Filiale\", \"Mitarbeiter\"]\n",
    "\n",
    "if not os.path.exists(\"reports\"):\n",
    "        os.mkdir(\"reports\") \n",
    "            \n",
    "[df_pivot.T.xs(elem, level=level, axis=1).T.to_csv(\"reports/\"+ level + \"_\" + elem + \".csv\")\n",
    "    for level in levels \n",
    " for elem in df_pivot.reset_index()[level].unique() ]"
   ]
  },
  {
   "cell_type": "markdown",
   "metadata": {},
   "source": [
    "## Abschluss \n",
    "Fertig.   \n",
    "Wir haben aus drei Daten mit unterschiedlichen Daten, eine erstellt und diese anschließend in einzel Berichte geliedert und als `.csv` Dateien gespeichert.  \n",
    "So lassen sich mit wenigen Code Zeilen langwierige und eintönige Excel Aufgaben automatisieren."
   ]
  },
  {
   "cell_type": "markdown",
   "metadata": {},
   "source": [
    "Ich hoffe der Beitrag hat euch die Vorteile von Python und Pandas etwas näher gebracht. Ich freue mich auf euere Kommentare und Claps."
   ]
  }
 ],
 "metadata": {
  "kernelspec": {
   "display_name": "Python 3",
   "language": "python",
   "name": "python3"
  },
  "language_info": {
   "codemirror_mode": {
    "name": "ipython",
    "version": 3
   },
   "file_extension": ".py",
   "mimetype": "text/x-python",
   "name": "python",
   "nbconvert_exporter": "python",
   "pygments_lexer": "ipython3",
   "version": "3.7.4"
  }
 },
 "nbformat": 4,
 "nbformat_minor": 2
}
